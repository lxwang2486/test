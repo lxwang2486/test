{
 "cells": [
  {
   "cell_type": "code",
   "execution_count": 1,
   "id": "0ef23164-0f68-4025-a395-74a0677c9ea1",
   "metadata": {},
   "outputs": [],
   "source": [
    "import os,sys\n",
    "import numpy as np\n",
    "import pandas as pd\n",
    "import matplotlib.pyplot as plt\n",
    "import astropy.units as u\n",
    "from astropy.io import fits\n",
    "from astropy.coordinates import SkyCoord\n",
    "from spectral_cube import SpectralCube\n",
    "#from regions import Regions\n",
    "#%matplotlib widget\n",
    "home = os.path.expanduser(\"~\")\n",
    "#from kd import kd_utils\n",
    "import argparse\n",
    "import scipy.optimize as opt\n",
    "from astropy import units\n",
    "from astropy.wcs import WCS\n",
    "from astropy.wcs.utils import pixel_to_skycoord\n",
    "from astropy.coordinates import SkyCoord\n",
    "from astropy.nddata import Cutout2D\n"
   ]
  },
  {
   "cell_type": "code",
   "execution_count": 2,
   "id": "7ed7aa1e",
   "metadata": {},
   "outputs": [],
   "source": [
    "def smooth(x,window_len=3,window='hanning'):\n",
    "    \"\"\"smooth the data using a window with requested size.\n",
    "\n",
    "    This method is based on the convolution of a scaled window with the signal.\n",
    "    The signal is prepared by introducing reflected copies of the signal\n",
    "    (with the window size) in both ends so that transient parts are minimized\n",
    "    in the begining and end part of the output signal.\n",
    "\n",
    "    input:\n",
    "        x: the input signal\n",
    "        window_len: the dimension of the smoothing window; should be an odd integer\n",
    "        window: the type of window from 'flat', 'hanning', 'hamming', 'bartlett', 'blackman'\n",
    "            flat window will produce a moving average smoothing.\n",
    "\n",
    "    output:\n",
    "        the smoothed signal\n",
    "\n",
    "    example:\n",
    "\n",
    "    t=linspace(-2,2,0.1)\n",
    "    x=sin(t)+randn(len(t))*0.1\n",
    "    y=smooth(x)\n",
    "\n",
    "    see also:\n",
    "\n",
    "    numpy.hanning, numpy.hamming, numpy.bartlett, numpy.blackman, numpy.convolve\n",
    "    scipy.signal.lfilter\n",
    "\n",
    "    TODO: the window parameter could be the window itself if an array instead of a string\n",
    "    NOTE: length(output) != length(input), to correct this: return y[(window_len/2-1):-(window_len/2)] instead of just y.\n",
    "    \"\"\"\n",
    "\n",
    "    if x.ndim != 1:\n",
    "        raise ValueError(\"smooth only accepts 1 dimension arrays.\")\n",
    "\n",
    "    if x.size < window_len:\n",
    "        raise ValueError(\"Input vector needs to be bigger than window size.\")\n",
    "\n",
    "    if window_len<3:\n",
    "        return x\n",
    "\n",
    "    if not window in ['flat', 'hanning', 'hamming', 'bartlett', 'blackman']:\n",
    "        raise ValueError(\"Window is on of 'flat', 'hanning', 'hamming', 'bartlett', 'blackman'\")\n",
    "\n",
    "    s=np.r_[x[window_len-1:0:-1],x,x[-1:-window_len:-1]]\n",
    "    if window == 'flat': #moving average\n",
    "        w=np.ones(window_len,'d')\n",
    "    else:\n",
    "        w=eval('np.'+window+'(window_len)')\n",
    "\n",
    "    y=np.convolve(w/w.sum(),s,mode='same')\n",
    "\n",
    "    return y[window_len-1:window_len-1+len(x)]\n",
    "\n",
    "from scipy import optimize\n",
    "from scipy import signal\n",
    "\n",
    "# FWHM = 2*(2ln2)^0.5*sigma=2.35482*sigma\n",
    "\n",
    "def gaussian(x,a,b,c): \n",
    "    return a*np.exp(-0.5*((x-b)/c)**2)\n",
    "\n",
    "def fit_gaussians(xdata, ydata, N=1):\n",
    "    '''\n",
    "    Inputs:\n",
    "        xdata: x-axis of spectrum, veleocity or frequency\n",
    "        ydata: y-axis of spectrum, the power or intensity\n",
    "    Keywords:\n",
    "        N: the number of Gaussian peaks to fit, default is 1.\n",
    "    Returns:\n",
    "        fitting parameters: pfit = (Ipeak, Vpeak, FWHM)\n",
    "        fitting errors: efit = (Error_Ip, Error_Vp, Error_FWHM)\n",
    "        fitting function: yfit=fitfunc(pfit,xdata)\n",
    "        error function: rms=np.std(errfunc(pfit,xdata,ydata)\n",
    "        reduced chi-sq: redchisq\n",
    "    '''\n",
    "\n",
    "    nbins = len(xdata)\n",
    "    imax = np.argmax(ydata)\n",
    "    pinit = np.array([ydata[imax],xdata[imax],0.001*nbins])\n",
    "\n",
    "# perform this fit iteratively\n",
    "    for n in range(1,N+1): \n",
    "        def fitfunc(p,x):\n",
    "            retval = np.zeros(len(x))\n",
    "            for i in range(n):\n",
    "                retval += gaussian(x,p[3*i],p[3*i+1],p[3*i+2])\n",
    "            return retval\n",
    "        def errfunc(p,x,y):\n",
    "            return y - fitfunc(p,x)\n",
    "\n",
    "        out = optimize.leastsq(errfunc,pinit,args=(xdata,ydata),full_output=True)\n",
    "        if n == N:\n",
    "           break\n",
    "# Re-define initial conditions for next round\n",
    "        pfit = out[0]\n",
    "        resids = ydata-fitfunc(pfit,xdata)\n",
    "        imax = np.argmax(resids)\n",
    "        pinitprime = np.array([resids[imax],xdata[imax],0.001*nbins])\n",
    "        pinit = np.concatenate((pfit,pinitprime))\n",
    "\n",
    "    redchisq = (errfunc(out[0],xdata,ydata)**2).sum()/(len(ydata)-len(pinit)-1) #-1 included here!\n",
    "    rms = np.std(errfunc(out[0],xdata,ydata))\n",
    "    redchisq = redchisq/rms**2\n",
    "    return out[0],out[1],fitfunc,errfunc,redchisq\n"
   ]
  },
  {
   "cell_type": "code",
   "execution_count": 4,
   "id": "f55ed286-fc32-4f22-8d32-08eb6255cbff",
   "metadata": {
    "collapsed": true,
    "jupyter": {
     "outputs_hidden": true
    },
    "scrolled": true,
    "tags": []
   },
   "outputs": [
    {
     "name": "stdout",
     "output_type": "stream",
     "text": [
      "Filename: /home/lxwang/data/G34.25+0.14.fits\n",
      "No.    Name      Ver    Type      Cards   Dimensions   Format\n",
      "  0  PRIMARY       1 PrimaryHDU      84   (40, 39, 1600)   float64   \n"
     ]
    },
    {
     "data": {
      "text/plain": [
       "SIMPLE  =                    T / conforms to FITS standard                      \n",
       "BITPIX  =                  -64 / array data type                                \n",
       "NAXIS   =                    3 / number of array dimensions                     \n",
       "NAXIS1  =                   40                                                  \n",
       "NAXIS2  =                   39                                                  \n",
       "NAXIS3  =                 1600                                                  \n",
       "OBJECT  = 'G034.39+00.22'                                                       \n",
       "TELESCOP= 'FAST    '                                                            \n",
       "INSTRUME= 'MBSPEC  '                                                            \n",
       "OBSERVER= 'Unknown Observer'                                                    \n",
       "DATE-MAP= '2020-08-21T01:48:39' / Created by fastgridder                        \n",
       "DATE    = '2020-08-21'                                                          \n",
       "OBSRA   =                283.7                                                  \n",
       "OBSDEC  =                  1.5                                                  \n",
       "BMAJ    =  0.07833333333333334                                                  \n",
       "BMIN    =  0.07833333333333334                                                  \n",
       "BPA     =                  0.0                                                  \n",
       "BUNIT   = 'beam-1 Jy'          / Ta                                             \n",
       "DATAMAX =   0.1113113537430763                                                  \n",
       "DATAMIN =  -0.1251707971096039                                                  \n",
       "BEAM    = 'Beam: BMAJ=282.0 arcsec BMIN=282.0 arcsec BPA=0.0 deg'               \n",
       "WCSAXES =                    3 / Number of coordinate axes                      \n",
       "CRPIX1  =                  1.0 / Pixel coordinate of reference point            \n",
       "CRPIX2  =                -50.0 / Pixel coordinate of reference point            \n",
       "CRPIX3  =                  1.0 / Pixel coordinate of reference point            \n",
       "CDELT1  =   -0.016666666666667 / [deg] Coordinate increment at reference point  \n",
       "CDELT2  =    0.016666666666667 / [deg] Coordinate increment at reference point  \n",
       "CDELT3  =                  0.5 / [m s-1] Coordinate increment at reference point\n",
       "CUNIT1  = 'deg'                / Units of coordinate increment and value        \n",
       "CUNIT2  = 'deg'                / Units of coordinate increment and value        \n",
       "CUNIT3  = 'km s-1  '           / Units of coordinate increment and value        \n",
       "CTYPE1  = 'RA---SFL'           / Right ascension, Sanson-Flamsteed projection   \n",
       "CTYPE2  = 'DEC--SFL'           / Declination, Sanson-Flamsteed projection       \n",
       "CTYPE3  = 'VELO'               / Relativistic velocity (linear)                 \n",
       "CRVAL1  =                283.7 / [deg] Coordinate value at reference point      \n",
       "CRVAL2  =                  0.0 / [deg] Coordinate value at reference point      \n",
       "CRVAL3  =               -400.0 / [m s-1] Coordinate value at reference point    \n",
       "LONPOLE =                  0.0 / [deg] Native longitude of celestial pole       \n",
       "LATPOLE =                 90.0 / [deg] Native latitude of celestial pole        \n",
       "DATEREF = '1858-11-17'         / ISO-8601 fiducial time                         \n",
       "MJDREFI =                  0.0 / [d] MJD of fiducial time, integer part         \n",
       "MJDREFF =                  0.0 / [d] MJD of fiducial time, fractional part      \n",
       "DATE-OBS= '2019-09-19T12:25:01.006Z' / ISO-8601 time of observation             \n",
       "MJD-OBS =     58745.517372755  / [d] MJD at start of observation                \n",
       "RADESYS = 'FK5'                / Equatorial coordinate system                   \n",
       "EQUINOX =               2000.0 / [yr] Equinox of equatorial coordinates         \n",
       "SPECSYS = 'LSRK'               / Reference frame of spectral coordinates        \n",
       "RESTFREQ=              1099.88 / MHz                                            \n",
       "LINE    = 'RRL     '           / H165a - H184a, Stacked to H181a                \n",
       "COMMENT Convolved with Gaussian convolution function.                           \n",
       "COMMENT IEEE not-a-number used for blanked pixels.                              \n",
       "COMMENT   FITS (Flexible Image Transport System) format is defined in 'Astronomy\n",
       "COMMENT   and Astrophysics', volume 376, page 359; bibcode: 2001A&A...376..359H \n",
       "HISTORY fastgridder version: 0.1                                                \n",
       "HISTORY fastgridder all channels used                                           \n",
       "HISTORY fastgridder clobber: True                                               \n",
       "HISTORY fastgridder kernel: gauss                                               \n",
       "HISTORY fastgridder output: ./cube-lines/G034.39+00.22_20190919_H184a_DE_Jy_p1  \n",
       "HISTORY fastgridder sdfits files ...                                            \n",
       "HISTORY fastgridder: 20190919/G034.39+00.22_OTF_M01_DE_00_H184a_Jy_p1.sdfits    \n",
       "HISTORY fastgridder: 20190919/G034.39+00.22_OTF_M02_DE_00_H184a_Jy_p1.sdfits    \n",
       "HISTORY fastgridder: 20190919/G034.39+00.22_OTF_M03_DE_00_H184a_Jy_p1.sdfits    \n",
       "HISTORY fastgridder: 20190919/G034.39+00.22_OTF_M04_DE_00_H184a_Jy_p1.sdfits    \n",
       "HISTORY fastgridder: 20190919/G034.39+00.22_OTF_M05_DE_00_H184a_Jy_p1.sdfits    \n",
       "HISTORY fastgridder: 20190919/G034.39+00.22_OTF_M06_DE_00_H184a_Jy_p1.sdfits    \n",
       "HISTORY fastgridder: 20190919/G034.39+00.22_OTF_M07_DE_00_H184a_Jy_p1.sdfits    \n",
       "HISTORY fastgridder: 20190919/G034.39+00.22_OTF_M08_DE_00_H184a_Jy_p1.sdfits    \n",
       "HISTORY fastgridder: 20190919/G034.39+00.22_OTF_M09_DE_00_H184a_Jy_p1.sdfits    \n",
       "HISTORY fastgridder: 20190919/G034.39+00.22_OTF_M10_DE_00_H184a_Jy_p1.sdfits    \n",
       "HISTORY fastgridder: 20190919/G034.39+00.22_OTF_M11_DE_00_H184a_Jy_p1.sdfits    \n",
       "HISTORY fastgridder: 20190919/G034.39+00.22_OTF_M12_DE_00_H184a_Jy_p1.sdfits    \n",
       "HISTORY fastgridder: 20190919/G034.39+00.22_OTF_M13_DE_00_H184a_Jy_p1.sdfits    \n",
       "HISTORY fastgridder: 20190919/G034.39+00.22_OTF_M14_DE_00_H184a_Jy_p1.sdfits    \n",
       "HISTORY fastgridder: 20190919/G034.39+00.22_OTF_M15_DE_00_H184a_Jy_p1.sdfits    \n",
       "HISTORY fastgridder: 20190919/G034.39+00.22_OTF_M16_DE_00_H184a_Jy_p1.sdfits    \n",
       "HISTORY fastgridder: 20190919/G034.39+00.22_OTF_M17_DE_00_H184a_Jy_p1.sdfits    \n",
       "HISTORY fastgridder: 20190919/G034.39+00.22_OTF_M18_DE_00_H184a_Jy_p1.sdfits    \n",
       "HISTORY fastgridder: 20190919/G034.39+00.22_OTF_M19_DE_00_H184a_Jy_p1.sdfits    \n",
       "HISTORY Average: G034.39+00.22_20190919_H184a_DE_Jy_p1_cube.fits                \n",
       "HISTORY Average: G034.39+00.22_20190919_H184a_DE_Jy_p2_cube.fits                \n",
       "HISTORY Average: G034.39+00.22_20190925_H184a_DE_Jy_p2_cube.fits                \n",
       "HISTORY Average: G034.39+00.22_20190925_H184a_RA_Jy_p2_cube.fits                \n",
       "HISTORY Written by spectral_cube v0.4.5 on 2020/08/22-18:58:50                  \n",
       "HISTORY Average: G034.39+00.22_H184a_Jy_cube_aver_fix_cov_H181a.fits            "
      ]
     },
     "execution_count": 4,
     "metadata": {},
     "output_type": "execute_result"
    }
   ],
   "source": [
    "file_in = home +'/data/'+'G34.25+0.14.fits'\n",
    "\n",
    "hdu = fits.open(file_in)\n",
    "\n",
    "hdu.info()\n",
    "\n",
    "hdu[0].header\n",
    "#data = hdu[0].data\n",
    "#print (data.shape)"
   ]
  },
  {
   "cell_type": "markdown",
   "id": "31d85b71",
   "metadata": {},
   "source": [
    "生成moment0图像"
   ]
  },
  {
   "cell_type": "code",
   "execution_count": 7,
   "id": "69b4d49c-18ee-4365-98d9-a6b5e686d24f",
   "metadata": {
    "collapsed": true,
    "jupyter": {
     "outputs_hidden": true
    },
    "tags": []
   },
   "outputs": [
    {
     "data": {
      "text/plain": [
       "<astropy.io.fits.hdu.image.PrimaryHDU at 0x7f7244befa60>"
      ]
     },
     "execution_count": 7,
     "metadata": {},
     "output_type": "execute_result"
    }
   ],
   "source": [
    "sc = SpectralCube.read(file_in)\n",
    "#print(sc)\n",
    "\n",
    "moment_0 = sc.moment(order=0)\n",
    "moment_0.write('moment1.fits')  \n",
    "moment_0.hdu  "
   ]
  },
  {
   "cell_type": "code",
   "execution_count": 8,
   "id": "7978ca2c-8769-40e3-aa7c-0c48b80c8f9e",
   "metadata": {
    "collapsed": true,
    "jupyter": {
     "outputs_hidden": true
    },
    "tags": []
   },
   "outputs": [
    {
     "name": "stdout",
     "output_type": "stream",
     "text": [
      "Filename: /home/lxwang/test/moment0.fits\n",
      "No.    Name      Ver    Type      Cards   Dimensions   Format\n",
      "  0  PRIMARY       1 PrimaryHDU      83   (40, 39)   float64   \n",
      "(39, 40)\n"
     ]
    }
   ],
   "source": [
    "file_in = home +'/test/'+'moment0.fits'\n",
    "\n",
    "hdu = fits.open(file_in)\n",
    "\n",
    "hdu.info()\n",
    "\n",
    "#hdu[0].header\n",
    "data = hdu[0].data\n",
    "print (data.shape)"
   ]
  },
  {
   "cell_type": "code",
   "execution_count": 9,
   "id": "6d391c2b-05c5-44cf-aba8-453d3cdb737b",
   "metadata": {
    "collapsed": true,
    "jupyter": {
     "outputs_hidden": true
    },
    "scrolled": true,
    "tags": []
   },
   "outputs": [
    {
     "name": "stdout",
     "output_type": "stream",
     "text": [
      "Filename: /home/lxwang/test/moment0.fits\n",
      "No.    Name      Ver    Type      Cards   Dimensions   Format\n",
      "  0  PRIMARY       1 PrimaryHDU      83   (40, 39)   float64   \n",
      "(39, 40)\n"
     ]
    }
   ],
   "source": [
    "file_in = home +'/test/'+'moment0.fits'\n",
    "\n",
    "hdu = fits.open(file_in)\n",
    "\n",
    "hdu.info()\n",
    "\n",
    "hdu[0].header\n",
    "data = hdu[0].data\n",
    "\n",
    "print (data.shape)"
   ]
  },
  {
   "cell_type": "code",
   "execution_count": 10,
   "id": "fae62ea1",
   "metadata": {},
   "outputs": [
    {
     "name": "stdout",
     "output_type": "stream",
     "text": [
      "Source Center: \n",
      "X size:\n",
      "Y size:\n"
     ]
    }
   ],
   "source": [
    "import argparse\n",
    "import numpy as np\n",
    "import scipy.optimize as opt\n",
    "from astropy import units\n",
    "from astropy.io import fits\n",
    "from astropy.wcs import WCS\n",
    "from astropy.wcs.utils import pixel_to_skycoord\n",
    "from astropy.coordinates import SkyCoord\n",
    "from astropy.nddata import Cutout2D\n",
    "\n",
    "import matplotlib.pyplot as plt\n",
    "\n",
    "#def load_image(filein):\n",
    "\n",
    "hdul = fits.open(file_in,'readonly')\n",
    "wcs = WCS(hdul[0].header)\n",
    "img = np.squeeze(hdul[0].data)\n",
    "hdul.close()\n",
    "#return img, wcs\n",
    "\n",
    "\n",
    "def Gaussian2d(xydata, xo, yo, sigma_X, sigma_Y, amplitude, theta, offset0, offset1, u, v):\n",
    "    \n",
    "    (x,y) = xydata\n",
    "    xo = float(xo)\n",
    "    yo = float(yo)    \n",
    "#g = offset0 + offset1*(x+u)*(y+v) +  amplitude*np.exp( - (((x-xo)**2)/(2*sigma_x**2) + ((y-yo)**2)/(2*sigma_y**2)))\n",
    "    a = (np.cos(theta)**2)/(2*sigma_X**2) + (np.sin(theta)**2)/(2*sigma_Y**2)\n",
    "    b = -(np.sin(2*theta))/(4*sigma_X**2) + (np.sin(2*theta))/(4*sigma_Y**2)\n",
    "    c = (np.sin(theta)**2)/(2*sigma_X**2) + (np.cos(theta)**2)/(2*sigma_Y**2)\n",
    "    g = offset0 + offset1*(x-u)*(y-v) + \\\n",
    "    amplitude*np.exp( - (a*((x-xo)**2) + 2*b*(x-xo)*(y-yo) + c*((y-yo)**2)))\n",
    "#    return g.ravel()\n",
    "\n",
    "def Gaussian2dFit(img,radius_x=10,radius_y=10):\n",
    "   \n",
    "    x = np.linspace(0, img.shape[1], img.shape[1])\n",
    "    y = np.linspace(0, img.shape[0], img.shape[0])\n",
    "    x, y = np.meshgrid(x, y)\n",
    "    #Parameters: xpos, ypos, sigmaX, sigmaY, amp, theta, offset0, offset1, u, v\n",
    "    initial_guess = (img.shape[1]/2,img.shape[0]/2,radius_x,radius_y,img.max(),0,0,0,0,0.0)\n",
    "    popt, pcov = opt.curve_fit(Gaussian2d, (x, y), \n",
    "                               img.ravel(), p0=initial_guess)\n",
    "    xcenter, ycenter, sigmaX, sigmaY, amp, offset0, offset1, theta, u, v = popt[0], popt[1], popt[2], popt[3], popt[4], popt[5], popt[6], popt[7], popt[8], popt[9]\n",
    "    FWHM_X = sigmaX*np.sqrt(8.0*np.log(2.0))\n",
    "    FWHM_Y = sigmaY*np.sqrt(8.0*np.log(2.0))\n",
    "    results = (amp,xcenter,ycenter,FWHM_X,FWHM_Y,theta,offset0,offset1,u,v)\n",
    "    #return results\n",
    "\n",
    "#def main(args):\n",
    "    img, wcs = load_image(args.file_fits)\n",
    "    pos = SkyCoord(args.coor, frame='icrs')\n",
    "    size = (args.rx*units.arcmin,args.ry*units.arcmin)\n",
    "\n",
    "    img_cut = Cutout2D(img,position=pos,size=size,wcs=wcs)\n",
    "#    plt.imshow(img_cut.data,origin='lower')\n",
    "#    plt.show()\n",
    "    (Amp,xcenter,ycenter,FWHM_x,FWHM_y,theta,offset0,offset1,u,v) = Gaussian2dFit(img_cut.data)\n",
    "#    coor = pixel_to_skycoord(xcenter,ycenter,img_cut.wcs)\n",
    "#    coor_xw = pixel_to_skycoord(xcenter-FWHM_x/2,ycenter,img_cut.wcs)\n",
    "#    coor_yw = pixel_to_skycoord(xcenter,ycenter-FWHM_y/2,img_cut.wcs)\n",
    "#    sep_x = coor.separation(coor_xw)\n",
    "#    sep_y = coor.separation(coor_yw)\n",
    "    #print(\"Peak Flux: {:8.4f}\\nOffset: {:8.4f}\\nX Size: {:6.2f} arcmin\\nY Size: {:6.2f} arcmin\\nRotation theta: {:8.4f} deg\".format(Amp,offset0,FWHM_x*np.abs(wcs.wcs.cdelt[1]*60), FWHM_y*np.abs(wcs.wcs.cdelt[1]*60),np.rad2deg(theta)))\n",
    "\n",
    "#print(\"Source Center: \", coor.to_string(style='hmsdms'))\n",
    "print(\"Source Center: \")\n",
    "#print(\"X size:\", sep_x*2)\n",
    "print(\"X size:\")\n",
    "#print(\"Y size:\", sep_y*2)\n",
    "print(\"Y size:\")\n",
    "   # print(\"Peak Flux: {:8.4f}\\nOffset: {:8.4f}\\nRotation theta: {:8.4f} deg\".format(Amp,offset0,np.rad2deg(theta)))"
   ]
  },
  {
   "cell_type": "code",
   "execution_count": 11,
   "id": "b51c2139-dd88-41f2-8195-5f2a9f8c350b",
   "metadata": {},
   "outputs": [],
   "source": [
    "def load_image(filein):\n",
    "\n",
    "    hdul = fits.open(args.file_fits,'readonly')\n",
    "    wcs = WCS(hdul[0].header)\n",
    "    img = np.squeeze(hdul[0].data)\n",
    "    hdul.close()\n",
    "    return img, wcs\n",
    "\n",
    "\n",
    "def Gaussian2d(xydata, xo, yo, sigma_X, sigma_Y, amplitude, theta, offset0, offset1, u, v):\n",
    "    \"\"\"Function to fit, returns 2D gaussian function as 1D array\n",
    "    https://en.wikipedia.org/wiki/Gaussian_function\n",
    "    https://cran.r-project.org/web/packages/gaussplotR/vignettes/formulas-used-by-fit-gaussian-2D.html\n",
    "    \"\"\"\n",
    "\n",
    "    (x,y) = xydata\n",
    "    xo = float(xo)\n",
    "    yo = float(yo)    \n",
    "    #g = offset0 + offset1*(x+u)*(y+v) +  amplitude*np.exp( - (((x-xo)**2)/(2*sigma_x**2) + ((y-yo)**2)/(2*sigma_y**2)))\n",
    "    a = (np.cos(theta)**2)/(2*sigma_X**2) + (np.sin(theta)**2)/(2*sigma_Y**2)\n",
    "    b = -(np.sin(2*theta))/(4*sigma_X**2) + (np.sin(2*theta))/(4*sigma_Y**2)\n",
    "    c = (np.sin(theta)**2)/(2*sigma_X**2) + (np.cos(theta)**2)/(2*sigma_Y**2)\n",
    "    g = offset0 + offset1*(x-u)*(y-v) + \\\n",
    "        amplitude*np.exp( - (a*((x-xo)**2) + 2*b*(x-xo)*(y-yo) + c*((y-yo)**2)))\n",
    "    return g.ravel()\n",
    "\n",
    "def Gaussian2dFit(img,radius_x=10,radius_y=10):\n",
    "    \"\"\"\n",
    "    Parameter:\n",
    "        img - image as numpy array\n",
    "    \"\"\"\n",
    "    x = np.linspace(0, img.shape[1], img.shape[1])\n",
    "    y = np.linspace(0, img.shape[0], img.shape[0])\n",
    "    x, y = np.meshgrid(x, y)\n",
    "    #Parameters: xpos, ypos, sigmaX, sigmaY, amp, theta, offset0, offset1, u, v\n",
    "    initial_guess = (img.shape[1]/2,img.shape[0]/2,radius_x,radius_y,img.max(),0,0,0,0,0.0)\n",
    "    popt, pcov = opt.curve_fit(Gaussian2d, (x, y), \n",
    "                               img.ravel(), p0=initial_guess)\n",
    "    xcenter, ycenter, sigmaX, sigmaY, amp, offset0, offset1, theta, u, v = popt[0], popt[1], popt[2], popt[3], popt[4], popt[5], popt[6], popt[7], popt[8], popt[9]\n",
    "    FWHM_X = sigmaX*np.sqrt(8.0*np.log(2.0))\n",
    "    FWHM_Y = sigmaY*np.sqrt(8.0*np.log(2.0))\n",
    "    results = (amp,xcenter,ycenter,FWHM_X,FWHM_Y,theta,offset0,offset1,u,v)\n",
    "    return results\n"
   ]
  },
  {
   "cell_type": "code",
   "execution_count": null,
   "id": "21d790bb-b1c9-4a9c-94b0-b2e05dba138a",
   "metadata": {},
   "outputs": [],
   "source": [
    "file_fits = #wenjian\n",
    "coor0 = \n",
    "rx = \n",
    "ry = \n",
    "img, wcs = load_image(file_fits)\n",
    "pos = SkyCoord(coor0, frame='icrs')\n",
    "size = (rx*units.arcmin,ry*units.arcmin)\n",
    "\n",
    "img_cut = Cutout2D(img,position=pos,size=size,wcs=wcs)\n",
    "#    plt.imshow(img_cut.data,origin='lower')\n",
    "#    plt.show()\n",
    "(Amp,xcenter,ycenter,FWHM_x,FWHM_y,theta,offset0,offset1,u,v) = Gaussian2dFit(img_cut.data)\n",
    "coor = pixel_to_skycoord(xcenter,ycenter,img_cut.wcs)\n",
    "coor_xw = pixel_to_skycoord(xcenter-FWHM_x/2,ycenter,img_cut.wcs)\n",
    "coor_yw = pixel_to_skycoord(xcenter,ycenter-FWHM_y/2,img_cut.wcs)\n",
    "sep_x = coor.separation(coor_xw)\n",
    "sep_y = coor.separation(coor_yw)\n",
    "#print(\"Peak Flux: {:8.4f}\\nOffset: {:8.4f}\\nX Size: {:6.2f} arcmin\\nY Size: {:6.2f} arcmin\\nRotation theta: {:8.4f} deg\".format(Amp,offset0,FWHM_x*np.abs(wcs.wcs.cdelt[1]*60), FWHM_y*np.abs(wcs.wcs.cdelt[1]*60),np.rad2deg(theta)))\n",
    "\n",
    "print(\"Source Center: \", coor.to_string(style='hmsdms'))\n",
    "print(\"X size:\", sep_x*2)\n",
    "print(\"Y size:\", sep_y*2)\n",
    "print(\"Peak Flux: {:8.4f}\\nOffset: {:8.4f}\\nRotation theta: {:8.4f} deg\".format(Amp,offset0,np.rad2deg(theta)))\n"
   ]
  },
  {
   "cell_type": "code",
   "execution_count": null,
   "id": "1b176dd0-2be1-4b29-8777-eecaef006548",
   "metadata": {
    "tags": []
   },
   "outputs": [
    {
     "data": {
      "text/plain": [
       "<matplotlib.colorbar.Colorbar at 0x7f72d2bf59a0>"
      ]
     },
     "execution_count": 230,
     "metadata": {},
     "output_type": "execute_result"
    },
    {
     "data": {
      "image/png": "[encoded data removed]",
      "text/plain": [
       "<Figure size 432x288 with 2 Axes>"
      ]
     },
     "metadata": {
      "needs_background": "light"
     },
     "output_type": "display_data"
    }
   ],
   "source": [
    "import matplotlib.pyplot as plt\n",
    "\n",
    "plt.figure()\n",
    "plt.imshow(data)\n",
    "plt.colorbar()\n",
    "#plt.gcf().clear()\n",
    "#plt.hist(data, bins=10,orientation='horizontal' )\n",
    "#plt.show()"
   ]
  },
  {
   "cell_type": "code",
   "execution_count": null,
   "id": "81d00d4a-1af1-439b-87b4-076140402890",
   "metadata": {
    "tags": []
   },
   "outputs": [
    {
     "ename": "NameError",
     "evalue": "name 'fitgaussian' is not defined",
     "output_type": "error",
     "traceback": [
      "\u001b[0;31m---------------------------------------------------------------------------\u001b[0m",
      "\u001b[0;31mNameError\u001b[0m                                 Traceback (most recent call last)",
      "\u001b[0;32m/tmp/ipykernel_5275/3717649409.py\u001b[0m in \u001b[0;36m<module>\u001b[0;34m\u001b[0m\n\u001b[1;32m      1\u001b[0m \u001b[0mplt\u001b[0m\u001b[0;34m.\u001b[0m\u001b[0mmatshow\u001b[0m\u001b[0;34m(\u001b[0m\u001b[0mdata\u001b[0m\u001b[0;34m,\u001b[0m \u001b[0mcmap\u001b[0m\u001b[0;34m=\u001b[0m\u001b[0mplt\u001b[0m\u001b[0;34m.\u001b[0m\u001b[0mcm\u001b[0m\u001b[0;34m.\u001b[0m\u001b[0mgist_earth_r\u001b[0m\u001b[0;34m)\u001b[0m\u001b[0;34m\u001b[0m\u001b[0;34m\u001b[0m\u001b[0m\n\u001b[1;32m      2\u001b[0m \u001b[0;34m\u001b[0m\u001b[0m\n\u001b[0;32m----> 3\u001b[0;31m \u001b[0mparams\u001b[0m \u001b[0;34m=\u001b[0m \u001b[0mfitgaussian\u001b[0m\u001b[0;34m(\u001b[0m\u001b[0mdata\u001b[0m\u001b[0;34m)\u001b[0m\u001b[0;34m\u001b[0m\u001b[0;34m\u001b[0m\u001b[0m\n\u001b[0m\u001b[1;32m      4\u001b[0m \u001b[0mfit\u001b[0m \u001b[0;34m=\u001b[0m \u001b[0mgaussian\u001b[0m\u001b[0;34m(\u001b[0m\u001b[0;34m*\u001b[0m\u001b[0mparams\u001b[0m\u001b[0;34m)\u001b[0m\u001b[0;34m\u001b[0m\u001b[0;34m\u001b[0m\u001b[0m\n\u001b[1;32m      5\u001b[0m \u001b[0;34m\u001b[0m\u001b[0m\n",
      "\u001b[0;31mNameError\u001b[0m: name 'fitgaussian' is not defined"
     ]
    },
    {
     "data": {
      "image/png": "[encoded data removed]",
      "text/plain": [
       "<Figure size 295.385x288 with 1 Axes>"
      ]
     },
     "metadata": {
      "needs_background": "light"
     },
     "output_type": "display_data"
    }
   ],
   "source": [
    "\n",
    "\n",
    "plt.matshow(data, cmap=plt.cm.gist_earth_r)\n",
    "\n",
    "params = fitgaussian(data)\n",
    "fit = gaussian(*params)\n",
    "\n",
    "plt.contour(fit(*np.indices(data.shape)), cmap=plt.cm.copper)\n",
    "ax = plt.gca()\n",
    "(height, x, y, width_x, width_y) = params\n",
    "\n",
    "plt.text(0.95, 0.05, \"\"\"\n",
    "x : %.1f\n",
    "y : %.1f\n",
    "width_x : %.1f\n",
    "width_y : %.1f\"\"\" %(x, y, width_x, width_y),\n",
    "        fontsize=16, horizontalalignment='right',\n",
    "        verticalalignment='bottom', transform=ax.transAxes)"
   ]
  },
  {
   "cell_type": "code",
   "execution_count": null,
   "id": "8382c854-b2d4-443a-84e8-0ecb1a267b28",
   "metadata": {
    "tags": []
   },
   "outputs": [],
   "source": [
    "from scipy import optimize\n",
    "def gaussian(height, center_x, center_y, width_x, width_y):\n",
    "    \"\"\"Returns a gaussian function with the given parameters\"\"\"\n",
    "    width_x = float(width_x)\n",
    "    width_y = float(width_y)\n",
    "    return lambda x,y: height*np.exp(\n",
    "                -(((center_x-x)/width_x)**2+((center_y-y)/width_y)**2)/2)\n",
    "\n",
    "def moments(data):\n",
    "    \"\"\"Returns (height, x, y, width_x, width_y)\n",
    "    the gaussian parameters of a 2D distribution by calculating its\n",
    "    moments \"\"\"\n",
    "    total = data.sum()\n",
    "    X, Y = np.indices(data.shape)\n",
    "    x = (X*data).sum()/total\n",
    "    y = (Y*data).sum()/total\n",
    "    col = data[:, int(y)]\n",
    "    width_x = np.sqrt(np.abs((np.arange(col.size)-x)**2*col).sum()/col.sum())\n",
    "    row = data[int(x), :]\n",
    "    width_y = np.sqrt(np.abs((np.arange(row.size)-y)**2*row).sum()/row.sum())\n",
    "    height = data.max()\n",
    "    return height, x, y, width_x, width_y\n",
    "\n",
    "def fitgaussian(data):\n",
    "    \"\"\"Returns (height, x, y, width_x, width_y)\n",
    "    the gaussian parameters of a 2D distribution found by a fit\"\"\"\n",
    "    params = moments(data)\n",
    "    errorfunction = lambda p: np.ravel(gaussian(*p)(*np.indices(data.shape)) -\n",
    "                                 data)\n",
    "    p, success = optimize.leastsq(errorfunction, params)\n",
    "    return p"
   ]
  },
  {
   "cell_type": "markdown",
   "id": "c48fbec4",
   "metadata": {},
   "source": [
    "一维拟合（平均）"
   ]
  },
  {
   "cell_type": "code",
   "execution_count": null,
   "id": "c787473b-ca98-4dbc-8ed2-c02f3d5f45db",
   "metadata": {
    "tags": []
   },
   "outputs": [],
   "source": [
    "import os, sys, argparse,warnings\n",
    "from spectral_cube import SpectralCube\n",
    "import astropy.units as u\n",
    "import matplotlib.pyplot as plt\n",
    "import numpy as np\n",
    "from regions import Regions\n",
    "from astropy.io import ascii\n",
    "import pyrrl\n",
    "#import fastspec as fsp\n",
    "#from smooth import smooth\n",
    "#from gauss_fit import fit_gaussians\n",
    "def load_csv(file_csv):\n",
    "    import csv\n",
    "    catalog=[]\n",
    "    with open(file_csv,'rt') as fcsv:\n",
    "        reader = csv.DictReader(fcsv)\n",
    "        for row in reader:\n",
    "            catalog.append({'GName':row['GName'],'GLon':float(row['GLon']),'GLat':float(row['GLat'])})\n",
    "    return catalog\n",
    "\n",
    "\n",
    "def plot_spec(velo,spec,plottype='step',vmin=-200,vmax=200,linestyle='solid',fontsize='xx-large',ylabel='Flux [mJy]',color='k'):\n",
    "    if plottype == 'line':\n",
    "        plt.plot(velo,spec,linestyle=linestyle,color=color,linewidth=1.5)\n",
    "    elif plottype == 'step':\n",
    "        plt.step(velo,spec,linestyle=linestyle,color=color,linewidth=1.5)\n",
    "    else:\n",
    "        return 0\n",
    "    if vmin is not None and vmax is not None:\n",
    "        plt.xlim([vmin,vmax])\n",
    "    plt.xlabel('LSR Velocity [km$\\,$s$^{-1}$]',fontsize=fontsize)\n",
    "    plt.ylabel(ylabel,fontsize=fontsize)\n",
    "    plt.tick_params(axis='both', labelsize=fontsize) #which='minor' \n",
    "\n",
    "    return 0\n",
    "\n",
    "def main():\n",
    "\n",
    "#    catalog = load_csv(args.file_cata)\n",
    "    nlist = np.arange(165,184)\n",
    "    pixel = 1\n",
    "    beam = 4.7\n",
    "    k_b2p = pixel**2 / (np.pi*(beam/2)**2)\n",
    "    lon = 34.24558\n",
    "    lat = 0.14079\n",
    "    radius = 1\n",
    "    region_str =  'fk5; ellipse(18:53:20.88,+1:15:13.81,144.615\",170.44\",0.003)'\n",
    "    #region_str = 'galactic; circle({l:f},{b:f},{r:f}'.format(l=lon,b=lat,r=radius/60.)\n",
    "    region = Regions.parse(region_str,format='ds9')\n",
    "    name = 'G{l:5.2f}{b:+05.2f}'.format(l=lon,b=lat)\n",
    "\n",
    "    c3 = SpectralCube.read('/home/lxwang/Pictures/'+'G34.25+0.14.fits')\n",
    "    s3 = c3.subcube_from_regions(region)\n",
    "    d3 = s3.unmasked_data[:,:,:] \n",
    "    v = c3.spectral_axis.value\n",
    "    sm_len = 5\n",
    "    sp3 = smooth(d3.mean(axis=(1,2)),window_len=sm_len)\n",
    "    sp3 = sp3.value\n",
    "    warnings.simplefilter('ignore',UserWarning,lineno=0)\n",
    "    rest_freq0 = pyrrl.calc.recombination_line_frequency(184,delta=1,element='H',unit=1e6)\n",
    "    unit = 'Jy'\n",
    "    if unit == 'Jy':\n",
    "        ylabel = 'Flux [Jy$\\,$beam$^{-1}$]'\n",
    "    elif unit == 'K':\n",
    "        ylabel = 'T$_a$ [K]'\n",
    "    else:\n",
    "        ylabel = 'Intensity'\n",
    "    \n",
    "    vmin = None\n",
    "    vmax = None\n",
    "    plot_spec(v,sp3,plottype=\"line\",\\\n",
    "              fontsize=14,vmin=vmin,vmax=vmax,\\\n",
    "              ylabel='ylabel',color='k',linestyle='dashed')\n",
    "    print(type(sp3),type(v))\n",
    "    a1,a2,a3,a4,a5=fit_gaussians(v,sp3,N=1)\n",
    "    print(a1)\n",
    "    print(a2)\n",
    "    yfit=a3(a1,v)\n",
    "    plt.plot(v,sp3)\n",
    "    plt.plot(v,yfit)\n",
    "    plt.show()\n",
    "    if False:\n",
    "        plt.tight_layout()\n",
    "        plt.savefig(fileout,format=fext,dpi=300)\n",
    "       "
   ]
  },
  {
   "cell_type": "code",
   "execution_count": null,
   "id": "6e051623",
   "metadata": {
    "tags": []
   },
   "outputs": [
    {
     "name": "stdout",
     "output_type": "stream",
     "text": [
      "<class 'numpy.ndarray'> <class 'numpy.ndarray'>\n",
      "[1.77851747e-02 5.22274516e+01 1.08274395e+01]\n",
      "[[ 3.90797863e-02  1.13256599e-06 -1.58613854e+01]\n",
      " [ 1.13256599e-06  1.93130701e+04 -6.89159785e-04]\n",
      " [-1.58613854e+01 -6.89159785e-04  1.93130701e+04]]\n"
     ]
    },
    {
     "data": {
      "image/png": "[encoded data removed]",
      "text/plain": [
       "<Figure size 432x288 with 1 Axes>"
      ]
     },
     "metadata": {
      "needs_background": "light"
     },
     "output_type": "display_data"
    }
   ],
   "source": [
    "\n",
    "main()\n",
    "\n"
   ]
  },
  {
   "cell_type": "markdown",
   "id": "18a0126e",
   "metadata": {},
   "source": [
    "moment0源坐标转换"
   ]
  },
  {
   "cell_type": "code",
   "execution_count": null,
   "id": "13c872aa",
   "metadata": {},
   "outputs": [
    {
     "name": "stdout",
     "output_type": "stream",
     "text": [
      "22.77479204229735 25.179999999998486\n"
     ]
    }
   ],
   "source": [
    "from astropy.wcs import WCS\n",
    "w = WCS('/home/lxwang/Pictures/G34.25+0.14_v.-400.0.400.0_moment0.fits')\n",
    "\n",
    "px, py = w.wcs_world2pix(283.337, 1.253, 1)\n",
    "print(px, py)"
   ]
  },
  {
   "cell_type": "markdown",
   "id": "179b3888",
   "metadata": {},
   "source": [
    "单条谱线拟合"
   ]
  },
  {
   "cell_type": "code",
   "execution_count": null,
   "id": "8a0aa8aa-f940-4e74-965c-0f380f649cae",
   "metadata": {
    "tags": []
   },
   "outputs": [
    {
     "name": "stdout",
     "output_type": "stream",
     "text": [
      "(1600,)\n",
      "[9.59606075e-03 5.36408402e+01 9.60417087e+00]\n",
      "[[ 4.40564059e-02  2.44470355e-06 -2.93975247e+01]\n",
      " [ 2.44470355e-06  5.88482728e+04 -2.45190025e-03]\n",
      " [-2.93975247e+01 -2.45190025e-03  5.88482733e+04]]\n"
     ]
    },
    {
     "data": {
      "image/png": "[encoded data removed]",
      "text/plain": [
       "<Figure size 432x288 with 1 Axes>"
      ]
     },
     "metadata": {
      "needs_background": "light"
     },
     "output_type": "display_data"
    }
   ],
   "source": [
    "#from gauss_fit import fit_gaussians\n",
    "file_in = '/home/lxwang/data/G34.25+0.14.fits'\n",
    "\n",
    "hdu = fits.open(file_in)\n",
    "\n",
    "data = hdu[0].data\n",
    "spec = data[:,23,25]\n",
    "print(spec.shape)\n",
    "#spec_ave = np.mean(spec,(1,2))\n",
    "x= np.arange(-400,400,0.5)\n",
    "ra=str(data[0])\n",
    "dec=str(data[1])\n",
    "#plt.plot(x,spec) \n",
    "\n",
    "a1,a2,a3,a4,a5=fit_gaussians(x,spec,N=1)\n",
    "print(a1)\n",
    "print(a2)\n",
    "yfit=a3(a1,x)\n",
    "plt.plot(x,spec)\n",
    "plt.plot(x,yfit)\n",
    "plt.show()"
   ]
  },
  {
   "cell_type": "markdown",
   "id": "c04a91a5",
   "metadata": {},
   "source": [
    "利用脚本一维拟合"
   ]
  },
  {
   "cell_type": "code",
   "execution_count": null,
   "id": "de6fb04d",
   "metadata": {
    "tags": []
   },
   "outputs": [],
   "source": [
    "import os, sys, argparse,warnings\n",
    "from spectral_cube import SpectralCube\n",
    "import astropy.units as u\n",
    "import matplotlib.pyplot as plt\n",
    "import numpy as np\n",
    "from regions import Regions\n",
    "from astropy.io import ascii\n",
    "import pyrrl\n",
    "#import fastspec as fsp\n",
    "#from smooth import smooth\n",
    "#from gauss_fit import fit_gaussians\n",
    "def load_csv(file_csv):\n",
    "    import csv\n",
    "    catalog=[]\n",
    "    with open(file_csv,'rt') as fcsv:\n",
    "        reader = csv.DictReader(fcsv)\n",
    "        for row in reader:\n",
    "            catalog.append({'GName':row['GName'],'GLon':float(row['GLon']),'GLat':float(row['GLat'])})\n",
    "    return catalog\n",
    "\n",
    "\n",
    "def plot_spec(velo,spec,plottype='step',vmin=-200,vmax=200,linestyle='solid',fontsize='xx-large',ylabel='T$_a$ [K]',color='k'):\n",
    "    if plottype == 'line':\n",
    "        plt.plot(velo,spec,linestyle=linestyle,color=color,linewidth=1.5)\n",
    "    elif plottype == 'step':\n",
    "        plt.step(velo,spec,linestyle=linestyle,color=color,linewidth=1.5)\n",
    "    else:\n",
    "        return 0\n",
    "    if vmin is not None and vmax is not None:\n",
    "        plt.xlim([vmin,vmax])\n",
    "    plt.xlabel('LSR Velocity [km$\\,$s$^{-1}$]',fontsize=fontsize)\n",
    "    plt.ylabel(ylabel,fontsize=fontsize)\n",
    "    plt.tick_params(axis='both', labelsize=fontsize) #which='minor' \n",
    "\n",
    "    return 0\n",
    "\n",
    "def main():\n",
    "\n",
    "#    catalog = load_csv(args.file_cata)\n",
    "    nlist = np.arange(165,184)\n",
    "    pixel = 1\n",
    "    beam = 4.7\n",
    "    k_b2p = pixel**2 / (np.pi*(beam/2)**2)\n",
    "    lon = 34.24558\n",
    "    lat = 0.14079\n",
    "    radius = 1\n",
    "    region_str =  'fk5; ellipse(18:53:20.88,+1:15:13.81,144.615\",170.44\",0.003)'\n",
    "    #region_str = 'galactic; circle({l:f},{b:f},{r:f}'.format(l=lon,b=lat,r=radius/60.)\n",
    "    region = Regions.parse(region_str,format='ds9')\n",
    "    name = 'G{l:5.2f}{b:+05.2f}'.format(l=lon,b=lat)\n",
    "\n",
    "    c3 = SpectralCube.read('/home/lxwang/data/'+'G34.25+0.14.fits')\n",
    "    s3 = c3.subcube_from_regions(region)\n",
    "    d3 = s3.unmasked_data[:,:,:] \n",
    "    v = c3.spectral_axis.value\n",
    "    sm_len = 5\n",
    "    sp3 = smooth(d3.mean(axis=(1,2)),window_len=sm_len)\n",
    "    sp3 = sp3.value\n",
    "    warnings.simplefilter('ignore',UserWarning,lineno=0)\n",
    "    rest_freq0 = pyrrl.calc.recombination_line_frequency(184,delta=1,element='H',unit=1e6)\n",
    "    unit = 'K'\n",
    "    if unit == 'Jy':\n",
    "        ylabel = 'Flux [Jy$\\,$beam$^{-1}$]'\n",
    "    elif unit == 'K':\n",
    "        ylabel = 'T$_a$ [K]'\n",
    "    else:\n",
    "        ylabel = 'Intensity'\n",
    "    \n",
    "    vmin = None\n",
    "    vmax = None\n",
    "    plot_spec(v,sp3,plottype=\"line\",\\\n",
    "              fontsize=14,vmin=vmin,vmax=vmax,\\\n",
    "              ylabel='ylabel',color='k',linestyle='dashed')\n",
    "    print(type(sp3),type(v))\n",
    "    a1,a2,a3,a4,a5=fit_gaussians(v,sp3,N=1)\n",
    "    print(a1)\n",
    "    print(a2)\n",
    "    yfit=a3(a1,v)\n",
    "    plt.plot(v,sp3)\n",
    "    plt.plot(v,yfit)\n",
    "    plt.show()\n",
    "    if False:\n",
    "        plt.tight_layout()\n",
    "        plt.savefig(fileout,format=fext,dpi=300)\n",
    "       "
   ]
  },
  {
   "cell_type": "code",
   "execution_count": null,
   "id": "54045c83",
   "metadata": {
    "tags": []
   },
   "outputs": [
    {
     "name": "stdout",
     "output_type": "stream",
     "text": [
      "<class 'numpy.ndarray'> <class 'numpy.ndarray'>\n",
      "[1.77851747e-02 5.22274516e+01 1.08274395e+01]\n",
      "[[ 3.90797863e-02  1.13256599e-06 -1.58613854e+01]\n",
      " [ 1.13256599e-06  1.93130701e+04 -6.89159785e-04]\n",
      " [-1.58613854e+01 -6.89159785e-04  1.93130701e+04]]\n"
     ]
    },
    {
     "data": {
      "image/png": "[encoded data removed]",
      "text/plain": [
       "<Figure size 432x288 with 1 Axes>"
      ]
     },
     "metadata": {
      "needs_background": "light"
     },
     "output_type": "display_data"
    }
   ],
   "source": [
    "\n",
    "main()\n",
    "\n"
   ]
  },
  {
   "cell_type": "markdown",
   "id": "f2cdfdd1",
   "metadata": {},
   "source": [
    " VGPS中的源坐标"
   ]
  },
  {
   "cell_type": "code",
   "execution_count": null,
   "id": "f474eae4",
   "metadata": {
    "scrolled": true
   },
   "outputs": [
    {
     "name": "stdout",
     "output_type": "stream",
     "text": [
      "262.60019063292566 541.5999992041192\n"
     ]
    }
   ],
   "source": [
    "from astropy.wcs import WCS\n",
    "w = WCS('/home/lxwang/data/VGPS_cont_MOS033_new.fits')\n",
    "\n",
    "px, py = w.wcs_world2pix(34.252, 0.143, 1)\n",
    "print(px, py)"
   ]
  },
  {
   "cell_type": "markdown",
   "id": "53bc3c53",
   "metadata": {},
   "source": [
    " VGPS中源尺寸"
   ]
  },
  {
   "cell_type": "code",
   "execution_count": null,
   "id": "9c92b1e2",
   "metadata": {},
   "outputs": [
    {
     "name": "stdout",
     "output_type": "stream",
     "text": [
      "0.0 23.0\n"
     ]
    }
   ],
   "source": [
    "#from astropy.wcs import WCS\n",
    "w = WCS('/home/lxwang/data/G34.25+0.14_v.-400.0.400.0.moment0.fits')\n",
    "\n",
    "px, py = w.wcs_pix2world(0, 23, 1)\n",
    "print(px, py)"
   ]
  },
  {
   "cell_type": "markdown",
   "id": "7d416fa2",
   "metadata": {},
   "source": [
    "模拟VGPS源"
   ]
  },
  {
   "cell_type": "code",
   "execution_count": null,
   "id": "f17726c9",
   "metadata": {},
   "outputs": [
    {
     "data": {
      "text/plain": [
       "<matplotlib.image.AxesImage at 0x7f72d83dde20>"
      ]
     },
     "execution_count": 162,
     "metadata": {},
     "output_type": "execute_result"
    },
    {
     "data": {
      "image/png": "[encoded data removed]",
      "text/plain": [
       "<Figure size 432x288 with 1 Axes>"
      ]
     },
     "metadata": {
      "needs_background": "light"
     },
     "output_type": "display_data"
    }
   ],
   "source": [
    "#import numpy as np\n",
    "#from astropy.modeling.models import Gaussian2D\n",
    "y, x = np.mgrid[0:1024, 0:1024]\n",
    "#data = fits.open('/home/lxwang/data/VGPS_cont_MOS033_new.fits')\n",
    "data = Gaussian2D(1, 262.6, 541.6, 9, 10, theta= -0.0085)(x, y)\n",
    "\n",
    "#import matplotlib.pyplot as plt\n",
    "plt.imshow(data, origin='lower')\n"
   ]
  },
  {
   "cell_type": "code",
   "execution_count": null,
   "id": "61bb534b",
   "metadata": {},
   "outputs": [
    {
     "ename": "OSError",
     "evalue": "No SIMPLE card found, this file does not appear to be a valid FITS file",
     "output_type": "error",
     "traceback": [
      "\u001b[0;31m---------------------------------------------------------------------------\u001b[0m",
      "\u001b[0;31mOSError\u001b[0m                                   Traceback (most recent call last)",
      "\u001b[0;32m/tmp/ipykernel_5275/1344025012.py\u001b[0m in \u001b[0;36m<module>\u001b[0;34m\u001b[0m\n\u001b[1;32m     37\u001b[0m    \u001b[0;31m# position = (262.6,541.6)\u001b[0m\u001b[0;34m\u001b[0m\u001b[0;34m\u001b[0m\u001b[0;34m\u001b[0m\u001b[0m\n\u001b[1;32m     38\u001b[0m    \u001b[0;31m# size = (50, 50)\u001b[0m\u001b[0;34m\u001b[0m\u001b[0;34m\u001b[0m\u001b[0;34m\u001b[0m\u001b[0m\n\u001b[0;32m---> 39\u001b[0;31m     \u001b[0mdownload_image_save_cutout\u001b[0m\u001b[0;34m(\u001b[0m\u001b[0murl\u001b[0m\u001b[0;34m,\u001b[0m \u001b[0mposition\u001b[0m\u001b[0;34m,\u001b[0m \u001b[0msize\u001b[0m\u001b[0;34m)\u001b[0m\u001b[0;34m\u001b[0m\u001b[0;34m\u001b[0m\u001b[0m\n\u001b[0m",
      "\u001b[0;32m/tmp/ipykernel_5275/1344025012.py\u001b[0m in \u001b[0;36mdownload_image_save_cutout\u001b[0;34m(url, position, size)\u001b[0m\n\u001b[1;32m     15\u001b[0m \u001b[0;34m\u001b[0m\u001b[0m\n\u001b[1;32m     16\u001b[0m     \u001b[0;31m# Load the image and the WCS\u001b[0m\u001b[0;34m\u001b[0m\u001b[0;34m\u001b[0m\u001b[0;34m\u001b[0m\u001b[0m\n\u001b[0;32m---> 17\u001b[0;31m     \u001b[0mhdu\u001b[0m \u001b[0;34m=\u001b[0m \u001b[0mfits\u001b[0m\u001b[0;34m.\u001b[0m\u001b[0mopen\u001b[0m\u001b[0;34m(\u001b[0m\u001b[0mfilename\u001b[0m\u001b[0;34m)\u001b[0m\u001b[0;34m[\u001b[0m\u001b[0;36m0\u001b[0m\u001b[0;34m]\u001b[0m\u001b[0;34m\u001b[0m\u001b[0;34m\u001b[0m\u001b[0m\n\u001b[0m\u001b[1;32m     18\u001b[0m     \u001b[0mwcs\u001b[0m \u001b[0;34m=\u001b[0m \u001b[0mWCS\u001b[0m\u001b[0;34m(\u001b[0m\u001b[0mhdu\u001b[0m\u001b[0;34m.\u001b[0m\u001b[0mheader\u001b[0m\u001b[0;34m)\u001b[0m\u001b[0;34m\u001b[0m\u001b[0;34m\u001b[0m\u001b[0m\n\u001b[1;32m     19\u001b[0m \u001b[0;34m\u001b[0m\u001b[0m\n",
      "\u001b[0;32m/usr/local/lib/python3.8/dist-packages/astropy/io/fits/hdu/hdulist.py\u001b[0m in \u001b[0;36mfitsopen\u001b[0;34m(name, mode, memmap, save_backup, cache, lazy_load_hdus, ignore_missing_simple, **kwargs)\u001b[0m\n\u001b[1;32m    171\u001b[0m         \u001b[0;32mraise\u001b[0m \u001b[0mValueError\u001b[0m\u001b[0;34m(\u001b[0m\u001b[0;34mf'Empty filename: {name!r}'\u001b[0m\u001b[0;34m)\u001b[0m\u001b[0;34m\u001b[0m\u001b[0;34m\u001b[0m\u001b[0m\n\u001b[1;32m    172\u001b[0m \u001b[0;34m\u001b[0m\u001b[0m\n\u001b[0;32m--> 173\u001b[0;31m     return HDUList.fromfile(name, mode, memmap, save_backup, cache,\n\u001b[0m\u001b[1;32m    174\u001b[0m                             lazy_load_hdus, ignore_missing_simple, **kwargs)\n\u001b[1;32m    175\u001b[0m \u001b[0;34m\u001b[0m\u001b[0m\n",
      "\u001b[0;32m/usr/local/lib/python3.8/dist-packages/astropy/io/fits/hdu/hdulist.py\u001b[0m in \u001b[0;36mfromfile\u001b[0;34m(cls, fileobj, mode, memmap, save_backup, cache, lazy_load_hdus, ignore_missing_simple, **kwargs)\u001b[0m\n\u001b[1;32m    406\u001b[0m         \"\"\"\n\u001b[1;32m    407\u001b[0m \u001b[0;34m\u001b[0m\u001b[0m\n\u001b[0;32m--> 408\u001b[0;31m         return cls._readfrom(fileobj=fileobj, mode=mode, memmap=memmap,\n\u001b[0m\u001b[1;32m    409\u001b[0m                              \u001b[0msave_backup\u001b[0m\u001b[0;34m=\u001b[0m\u001b[0msave_backup\u001b[0m\u001b[0;34m,\u001b[0m \u001b[0mcache\u001b[0m\u001b[0;34m=\u001b[0m\u001b[0mcache\u001b[0m\u001b[0;34m,\u001b[0m\u001b[0;34m\u001b[0m\u001b[0;34m\u001b[0m\u001b[0m\n\u001b[1;32m    410\u001b[0m                              \u001b[0mignore_missing_simple\u001b[0m\u001b[0;34m=\u001b[0m\u001b[0mignore_missing_simple\u001b[0m\u001b[0;34m,\u001b[0m\u001b[0;34m\u001b[0m\u001b[0;34m\u001b[0m\u001b[0m\n",
      "\u001b[0;32m/usr/local/lib/python3.8/dist-packages/astropy/io/fits/hdu/hdulist.py\u001b[0m in \u001b[0;36m_readfrom\u001b[0;34m(cls, fileobj, data, mode, memmap, cache, lazy_load_hdus, ignore_missing_simple, **kwargs)\u001b[0m\n\u001b[1;32m   1088\u001b[0m                 \u001b[0;32mif\u001b[0m \u001b[0mhdulist\u001b[0m\u001b[0;34m.\u001b[0m\u001b[0m_file\u001b[0m\u001b[0;34m.\u001b[0m\u001b[0mclose_on_error\u001b[0m\u001b[0;34m:\u001b[0m\u001b[0;34m\u001b[0m\u001b[0;34m\u001b[0m\u001b[0m\n\u001b[1;32m   1089\u001b[0m                     \u001b[0mhdulist\u001b[0m\u001b[0;34m.\u001b[0m\u001b[0m_file\u001b[0m\u001b[0;34m.\u001b[0m\u001b[0mclose\u001b[0m\u001b[0;34m(\u001b[0m\u001b[0;34m)\u001b[0m\u001b[0;34m\u001b[0m\u001b[0;34m\u001b[0m\u001b[0m\n\u001b[0;32m-> 1090\u001b[0;31m                 raise OSError('No SIMPLE card found, this file does not '\n\u001b[0m\u001b[1;32m   1091\u001b[0m                               'appear to be a valid FITS file')\n\u001b[1;32m   1092\u001b[0m \u001b[0;34m\u001b[0m\u001b[0m\n",
      "\u001b[0;31mOSError\u001b[0m: No SIMPLE card found, this file does not appear to be a valid FITS file"
     ]
    },
    {
     "data": {
      "image/png": "[encoded data removed]",
      "text/plain": [
       "<Figure size 432x288 with 1 Axes>"
      ]
     },
     "metadata": {
      "needs_background": "light"
     },
     "output_type": "display_data"
    }
   ],
   "source": [
    "from astropy.nddata import Cutout2D\n",
    "from astropy import units as u\n",
    "from astropy.utils.data import download_file\n",
    "\n",
    "position = (262.6,541.6)\n",
    "size = (50,50)    # pixels\n",
    "cutout = Cutout2D(data, position, size)\n",
    "plt.imshow(cutout.data, origin='lower')\n",
    "#plt.savefig('VGPS_cont_MOS033_new-Copy1.png')\n",
    "\n",
    "\n",
    "def download_image_save_cutout(url, position, size):\n",
    "    # Download the image\n",
    "    filename = download_file(url)\n",
    "\n",
    "    # Load the image and the WCS\n",
    "    hdu = fits.open(filename)[0]\n",
    "    wcs = WCS(hdu.header)\n",
    "\n",
    "    # Make the cutout, including the WCS\n",
    "    cutout = Cutout2D(hdu.data, position=position, size=size, wcs=wcs)\n",
    "\n",
    "    # Put the cutout image in the FITS HDU\n",
    "    hdu.data = cutout.data\n",
    "\n",
    "    # Update the FITS header with the cutout WCS\n",
    "    hdu.header.update(cutout.wcs.to_header())\n",
    "\n",
    "    # Write the cutout to a new FITS file\n",
    "    cutout_filename = 'example_cutout.fits'\n",
    "    hdu.writeto(cutout_filename, overwrite=True)\n",
    "\n",
    "\n",
    "if __name__ == '__main__':\n",
    "    url = 'http://10.37.0.65:8000/user/lxwang/tree/data/spitzer_example_image.fits'\n",
    "\n",
    "   # position = (262.6,541.6)\n",
    "   # size = (50, 50)\n",
    "    download_image_save_cutout(url, position, size)"
   ]
  },
  {
   "cell_type": "code",
   "execution_count": null,
   "id": "c1229f70",
   "metadata": {},
   "outputs": [
    {
     "name": "stdout",
     "output_type": "stream",
     "text": [
      "(33, 33)\n",
      "(50, 50)\n"
     ]
    },
    {
     "name": "stderr",
     "output_type": "stream",
     "text": [
      "WARNING: AstropyDeprecationWarning: \"clobber\" was deprecated in version 2.0 and will be removed in a future version. Use argument \"overwrite\" instead. [warnings]\n"
     ]
    },
    {
     "data": {
      "text/plain": [
       "<matplotlib.image.AxesImage at 0x7f72d1815580>"
      ]
     },
     "execution_count": 168,
     "metadata": {},
     "output_type": "execute_result"
    },
    {
     "data": {
      "image/png": "[encoded data removed]",
      "text/plain": [
       "<Figure size 432x288 with 1 Axes>"
      ]
     },
     "metadata": {
      "needs_background": "light"
     },
     "output_type": "display_data"
    }
   ],
   "source": [
    "#import numpy as np\n",
    "from astropy.io import fits\n",
    "from astropy import wcs \n",
    "from astropy import units as u\n",
    "from astropy import convolution \n",
    "from copy import deepcopy\n",
    "import matplotlib.pyplot as plt\n",
    "import sys\n",
    "import radio_beam\n",
    "\n",
    "#filein = ('cutout.data')\n",
    "fileout = ('VGPS_new_2')\n",
    "\n",
    "#def main(filein,fileout):\n",
    "beam_size = 4.7/60.0 # deg\n",
    "beam0 = radio_beam.Beam(1.0/60.0)\n",
    "beam  = radio_beam.Beam(beam_size)\n",
    "#======================================================\n",
    "#hdlist = fits.open(filein)\n",
    "#hdlist.info()\n",
    "#image = np.squeeze(hdlist[0].data)  #\n",
    "image = cutout.data\n",
    "#header = hdlist[0].header\n",
    "#hdlist.close()\n",
    "#wcs0 = wcs.WCS(header)\n",
    "#======================================================\n",
    "#pixscale = wcs.utils.proj_plane_pixel_area(wcs0.celestial)**0.5*u.deg #一个pix的大小\n",
    "pixscale = 1/60*u.deg\n",
    "convolution_kernel = beam.deconvolve(beam0).as_kernel(pixscale)\n",
    "print (convolution_kernel.shape)\n",
    "print (image.shape)\n",
    "image_new = convolution.convolve_fft(image,convolution_kernel,normalize_kernel=True,allow_huge=True)\n",
    "#======================================================\n",
    "hdu = fits.PrimaryHDU(image_new)\n",
    "#hdu.header = deepcopy(header)\n",
    "hdu.writeto(fileout,clobber=True)\n",
    "#======================================================\n",
    "\n",
    "#fig = plt.figure(figsize=(12,5))\n",
    "#fig.add_subplot(211)#,projection=wcs0)\n",
    "plt.imshow(image,cmap='plasma',origin='lower',vmin=3,vmax=12)\n",
    "#    plt.xlabel('GLON')\n",
    "#    plt.ylabel('GLat')\n",
    "#    fig.add_subplot(222)#,projection=wcs0)\n",
    "#    plt.imshow(image_new,cmap='plasma',origin='lower',vmin=3,vmax=12)\n",
    "#    plt.xlabel('GLON')\n",
    "#    plt.ylabel('GLat')\n",
    "\n",
    "#plt.savefig(fileout,format='eps',dpi=1000)\n",
    "#plt.show()\n",
    "\n",
    "#    return 0"
   ]
  },
  {
   "cell_type": "code",
   "execution_count": null,
   "id": "542fd811-bc88-48b6-9f0b-57ce1ceae93a",
   "metadata": {},
   "outputs": [],
   "source": []
  },
  {
   "cell_type": "markdown",
   "id": "318a8b77",
   "metadata": {},
   "source": [
    "MOMENT0 源坐标"
   ]
  },
  {
   "cell_type": "code",
   "execution_count": null,
   "id": "3aca4d59",
   "metadata": {
    "scrolled": true
   },
   "outputs": [
    {
     "name": "stdout",
     "output_type": "stream",
     "text": [
      "22.594859784926424 24.999999999998508\n"
     ]
    }
   ],
   "source": [
    "from astropy.wcs import WCS\n",
    "w = WCS('/home/lxwang/data/G34.25+0.14_v.-400.0.400.0_moment0.fits')\n",
    "\n",
    "px, py = w.wcs_world2pix(283.34, 1.25, 1)\n",
    "print(px, py)"
   ]
  },
  {
   "cell_type": "code",
   "execution_count": null,
   "id": "ce8c726b",
   "metadata": {
    "collapsed": true,
    "jupyter": {
     "outputs_hidden": true
    },
    "tags": []
   },
   "outputs": [
    {
     "data": {
      "text/plain": [
       "<matplotlib.image.AxesImage at 0x7f72d77152b0>"
      ]
     },
     "execution_count": 108,
     "metadata": {},
     "output_type": "execute_result"
    },
    {
     "data": {
      "image/png": "[encoded data removed]",
      "text/plain": [
       "<Figure size 432x288 with 1 Axes>"
      ]
     },
     "metadata": {
      "needs_background": "light"
     },
     "output_type": "display_data"
    }
   ],
   "source": [
    "#import numpy as np\n",
    "#from astropy.modeling.models import Gaussian2D\n",
    "y, x = np.mgrid[0:40, 0:39]\n",
    "#data = fits.open('/home/lxwang/data/G34.25+0.14.fits')\n",
    "data = Gaussian2D(1, 22.6, 25.0, 5, 5, theta= 0.003)(x, y)\n",
    "\n",
    "#import matplotlib.pyplot as plt\n",
    "plt.imshow(data, origin='lower')\n"
   ]
  },
  {
   "cell_type": "code",
   "execution_count": null,
   "id": "65394113",
   "metadata": {
    "collapsed": true,
    "jupyter": {
     "outputs_hidden": true
    },
    "scrolled": true,
    "tags": []
   },
   "outputs": [
    {
     "data": {
      "text/plain": [
       "<matplotlib.image.AxesImage at 0x7f72d76fc670>"
      ]
     },
     "execution_count": 109,
     "metadata": {},
     "output_type": "execute_result"
    },
    {
     "data": {
      "image/png": "[encoded data removed]",
      "text/plain": [
       "<Figure size 432x288 with 1 Axes>"
      ]
     },
     "metadata": {
      "needs_background": "light"
     },
     "output_type": "display_data"
    }
   ],
   "source": [
    "from astropy.nddata import Cutout2D\n",
    "from astropy import units as u\n",
    "\n",
    "position = (22.6,25.0)\n",
    "size = (20,20)    # pixels\n",
    "cutout = Cutout2D(data, position, size)\n",
    "plt.imshow(cutout.data, origin='lower')"
   ]
  },
  {
   "cell_type": "markdown",
   "id": "9474558c",
   "metadata": {},
   "source": [
    "moment0中pix转换world"
   ]
  },
  {
   "cell_type": "code",
   "execution_count": null,
   "id": "cc76199b",
   "metadata": {},
   "outputs": [
    {
     "data": {
      "text/plain": [
       "<SkyCoord (FK5: equinox=2000.0): (ra, dec) in deg\n",
       "    [(283.34992322, 1.2)]>"
      ]
     },
     "execution_count": 2,
     "metadata": {},
     "output_type": "execute_result"
    }
   ],
   "source": [
    "from astropy.wcs import WCS\n",
    "from astropy.utils.data import get_pkg_data_filename\n",
    "from astropy.io import fits\n",
    "filename = get_pkg_data_filename('/home/lxwang/data/G34.25+0.14_v.-400.0.400.0_moment0.fits')  \n",
    "hdu = fits.open(filename)[0]  \n",
    "wcs = WCS(hdu.header)  \n",
    "wcs  \n",
    "\n",
    "\n",
    "coord = wcs.pixel_to_world([21],[21])  \n",
    "coord  "
   ]
  },
  {
   "cell_type": "code",
   "execution_count": null,
   "id": "2f8681f7",
   "metadata": {
    "tags": []
   },
   "outputs": [
    {
     "ename": "SyntaxError",
     "evalue": "invalid syntax (3969160104.py, line 11)",
     "output_type": "error",
     "traceback": [
      "\u001b[0;36m  File \u001b[0;32m\"/tmp/ipykernel_5275/3969160104.py\"\u001b[0;36m, line \u001b[0;32m11\u001b[0m\n\u001b[0;31m    def main('VGPS_cont_MOS033_new-Copy1.png','VGPS_somthing'):\u001b[0m\n\u001b[0m             ^\u001b[0m\n\u001b[0;31mSyntaxError\u001b[0m\u001b[0;31m:\u001b[0m invalid syntax\n"
     ]
    }
   ],
   "source": [
    "import numpy as np\n",
    "from astropy.io import fits\n",
    "from astropy import wcs \n",
    "from astropy import units as u\n",
    "from astropy import convolution \n",
    "from copy import deepcopy\n",
    "import matplotlib.pyplot as plt\n",
    "import sys\n",
    "import radio_beam\n",
    "\n",
    "def main('VGPS_cont_MOS033_new-Copy1.png','VGPS_somthing'):\n",
    "    beam_size = 3.4/60.0 # deg\n",
    "    beam0 = radio_beam.Beam(1.0/60.0)\n",
    "    beam  = radio_beam.Beam(beam_size)\n",
    "#======================================================\n",
    "    hdlist = fits.open(filein)\n",
    "    hdlist.info()\n",
    "    image = np.squeeze(hdlist[0].data)\n",
    "    header = hdlist[0].header\n",
    "    hdlist.close()\n",
    "    wcs0 = wcs.WCS(header)\n",
    "#======================================================\n",
    "    pixscale = wcs.utils.proj_plane_pixel_area(wcs0.celestial)**0.5*u.deg\n",
    "    convolution_kernel = beam.deconvolve(beam0).as_kernel(pixscale)\n",
    "    print (convolution_kernel.shape)\n",
    "    print (image.shape)\n",
    "    image_new = convolution.convolve_fft(image,convolution_kernel,normalize_kernel=True,allow_huge=True)\n",
    "#======================================================\n",
    "    hdu = fits.PrimaryHDU(image_new)\n",
    "    hdu.header = deepcopy(header)\n",
    "    hdu.writeto(fileout,clobber=True)\n",
    "#======================================================\n",
    "\n",
    "#    fig = plt.figure(figsize=(12,5))\n",
    "#    fig.add_subplot(211)#,projection=wcs0)\n",
    "#    plt.imshow(image,cmap='plasma',origin='lower',vmin=3,vmax=12)\n",
    "#    plt.xlabel('GLON')\n",
    "#    plt.ylabel('GLat')\n",
    "#    fig.add_subplot(222)#,projection=wcs0)\n",
    "#    plt.imshow(image_new,cmap='plasma',origin='lower',vmin=3,vmax=12)\n",
    "#    plt.xlabel('GLON')\n",
    "#    plt.ylabel('GLat')\n",
    "\n",
    "#    plt.savefig(fileout,format='eps',dpi=1000)\n",
    "    plt.show()"
   ]
  },
  {
   "cell_type": "code",
   "execution_count": null,
   "id": "87fd4823",
   "metadata": {
    "scrolled": true
   },
   "outputs": [],
   "source": [
    "import radio_beam\n",
    "from spectral_cube import SpectralCube\n",
    "from astropy import units as u\n",
    "from astropy.convolution import Gaussian1DKernel\n",
    "\n",
    "cube = SpectralCube.read('/home/lxwang/data/'+'VGPS_cont_MOS033.fits')\n",
    "kernel = Gaussian1DKernel(2.5)\n",
    "new_cube = cube.spectral_smooth(kernel)\n",
    "#plot_keep(new_cube)\n",
    "#common_beam = cube.beams.common_beam()\n",
    "#new_cube = cube.convolve_to(common_beam)"
   ]
  },
  {
   "cell_type": "code",
   "execution_count": null,
   "id": "9a932876",
   "metadata": {},
   "outputs": [
    {
     "ename": "NoBeamError",
     "evalue": "No beam is defined for this SpectralCube or the beam information could not be parsed from the header. A `~radio_beam.Beam` object can be added using `cube.with_beam`.",
     "output_type": "error",
     "traceback": [
      "\u001b[0;31m---------------------------------------------------------------------------\u001b[0m",
      "\u001b[0;31mNoBeamError\u001b[0m                               Traceback (most recent call last)",
      "\u001b[0;32m/tmp/ipykernel_5275/1084851641.py\u001b[0m in \u001b[0;36m<module>\u001b[0;34m\u001b[0m\n\u001b[1;32m      5\u001b[0m \u001b[0mcube\u001b[0m \u001b[0;34m=\u001b[0m \u001b[0mSpectralCube\u001b[0m\u001b[0;34m.\u001b[0m\u001b[0mread\u001b[0m\u001b[0;34m(\u001b[0m\u001b[0;34m'/home/lxwang/data/'\u001b[0m\u001b[0;34m+\u001b[0m\u001b[0;34m'VGPS_cont_MOS033.fits'\u001b[0m\u001b[0;34m)\u001b[0m\u001b[0;34m\u001b[0m\u001b[0;34m\u001b[0m\u001b[0m\n\u001b[1;32m      6\u001b[0m \u001b[0mbeam\u001b[0m \u001b[0;34m=\u001b[0m \u001b[0mradio_beam\u001b[0m\u001b[0;34m.\u001b[0m\u001b[0mBeam\u001b[0m\u001b[0;34m(\u001b[0m\u001b[0mmajor\u001b[0m\u001b[0;34m=\u001b[0m\u001b[0;36m1\u001b[0m\u001b[0;34m*\u001b[0m\u001b[0mu\u001b[0m\u001b[0;34m.\u001b[0m\u001b[0marcsec\u001b[0m\u001b[0;34m,\u001b[0m \u001b[0mminor\u001b[0m\u001b[0;34m=\u001b[0m\u001b[0;36m1\u001b[0m\u001b[0;34m*\u001b[0m\u001b[0mu\u001b[0m\u001b[0;34m.\u001b[0m\u001b[0marcsec\u001b[0m\u001b[0;34m,\u001b[0m \u001b[0mpa\u001b[0m\u001b[0;34m=\u001b[0m\u001b[0;36m0\u001b[0m\u001b[0;34m*\u001b[0m\u001b[0mu\u001b[0m\u001b[0;34m.\u001b[0m\u001b[0mdeg\u001b[0m\u001b[0;34m)\u001b[0m\u001b[0;34m\u001b[0m\u001b[0;34m\u001b[0m\u001b[0m\n\u001b[0;32m----> 7\u001b[0;31m \u001b[0mnew_cube\u001b[0m \u001b[0;34m=\u001b[0m \u001b[0mcube\u001b[0m\u001b[0;34m.\u001b[0m\u001b[0mconvolve_to\u001b[0m\u001b[0;34m(\u001b[0m\u001b[0mbeam\u001b[0m\u001b[0;34m)\u001b[0m\u001b[0;34m\u001b[0m\u001b[0;34m\u001b[0m\u001b[0m\n\u001b[0m",
      "\u001b[0;32m/usr/local/lib/python3.8/dist-packages/spectral_cube/utils.py\u001b[0m in \u001b[0;36mwrapper\u001b[0;34m(self, *args, **kwargs)\u001b[0m\n\u001b[1;32m     47\u001b[0m                           \u001b[0mPossiblySlowWarning\u001b[0m\u001b[0;34m\u001b[0m\u001b[0;34m\u001b[0m\u001b[0m\n\u001b[1;32m     48\u001b[0m                          )\n\u001b[0;32m---> 49\u001b[0;31m         \u001b[0;32mreturn\u001b[0m \u001b[0mfunction\u001b[0m\u001b[0;34m(\u001b[0m\u001b[0mself\u001b[0m\u001b[0;34m,\u001b[0m \u001b[0;34m*\u001b[0m\u001b[0margs\u001b[0m\u001b[0;34m,\u001b[0m \u001b[0;34m**\u001b[0m\u001b[0mkwargs\u001b[0m\u001b[0;34m)\u001b[0m\u001b[0;34m\u001b[0m\u001b[0;34m\u001b[0m\u001b[0m\n\u001b[0m\u001b[1;32m     50\u001b[0m     \u001b[0;32mreturn\u001b[0m \u001b[0mwrapper\u001b[0m\u001b[0;34m\u001b[0m\u001b[0;34m\u001b[0m\u001b[0m\n\u001b[1;32m     51\u001b[0m \u001b[0;34m\u001b[0m\u001b[0m\n",
      "\u001b[0;32m/usr/local/lib/python3.8/dist-packages/spectral_cube/spectral_cube.py\u001b[0m in \u001b[0;36mconvolve_to\u001b[0;34m(self, beam, convolve, update_function, **kwargs)\u001b[0m\n\u001b[1;32m   3194\u001b[0m \u001b[0;34m\u001b[0m\u001b[0m\n\u001b[1;32m   3195\u001b[0m         \u001b[0;31m# Check if the beams are the same.\u001b[0m\u001b[0;34m\u001b[0m\u001b[0;34m\u001b[0m\u001b[0;34m\u001b[0m\u001b[0m\n\u001b[0;32m-> 3196\u001b[0;31m         \u001b[0;32mif\u001b[0m \u001b[0mbeam\u001b[0m \u001b[0;34m==\u001b[0m \u001b[0mself\u001b[0m\u001b[0;34m.\u001b[0m\u001b[0mbeam\u001b[0m\u001b[0;34m:\u001b[0m\u001b[0;34m\u001b[0m\u001b[0;34m\u001b[0m\u001b[0m\n\u001b[0m\u001b[1;32m   3197\u001b[0m             warnings.warn(\"The given beam is identical to the current beam. \"\n\u001b[1;32m   3198\u001b[0m                           \"Skipping convolution.\")\n",
      "\u001b[0;32m/usr/local/lib/python3.8/dist-packages/spectral_cube/base_class.py\u001b[0m in \u001b[0;36mbeam\u001b[0;34m(self)\u001b[0m\n\u001b[1;32m    818\u001b[0m     \u001b[0;32mdef\u001b[0m \u001b[0mbeam\u001b[0m\u001b[0;34m(\u001b[0m\u001b[0mself\u001b[0m\u001b[0;34m)\u001b[0m\u001b[0;34m:\u001b[0m\u001b[0;34m\u001b[0m\u001b[0;34m\u001b[0m\u001b[0m\n\u001b[1;32m    819\u001b[0m         \u001b[0;32mif\u001b[0m \u001b[0mself\u001b[0m\u001b[0;34m.\u001b[0m\u001b[0m_beam\u001b[0m \u001b[0;32mis\u001b[0m \u001b[0;32mNone\u001b[0m\u001b[0;34m:\u001b[0m\u001b[0;34m\u001b[0m\u001b[0;34m\u001b[0m\u001b[0m\n\u001b[0;32m--> 820\u001b[0;31m             raise NoBeamError(\"No beam is defined for this SpectralCube or the\"\n\u001b[0m\u001b[1;32m    821\u001b[0m                               \u001b[0;34m\" beam information could not be parsed from the\"\u001b[0m\u001b[0;34m\u001b[0m\u001b[0;34m\u001b[0m\u001b[0m\n\u001b[1;32m    822\u001b[0m                               \u001b[0;34m\" header. A `~radio_beam.Beam` object can be\"\u001b[0m\u001b[0;34m\u001b[0m\u001b[0;34m\u001b[0m\u001b[0m\n",
      "\u001b[0;31mNoBeamError\u001b[0m: No beam is defined for this SpectralCube or the beam information could not be parsed from the header. A `~radio_beam.Beam` object can be added using `cube.with_beam`."
     ]
    }
   ],
   "source": [
    "import radio_beam\n",
    "from spectral_cube import SpectralCube\n",
    "from astropy import units as u\n",
    "\n",
    "cube = SpectralCube.read('/home/lxwang/data/'+'VGPS_cont_MOS033.fits')\n",
    "beam = radio_beam.Beam(major=1*u.arcsec, minor=1*u.arcsec, pa=0*u.deg)\n",
    "new_cube = cube.convolve_to(beam)"
   ]
  },
  {
   "cell_type": "code",
   "execution_count": null,
   "id": "e86cd830",
   "metadata": {},
   "outputs": [
    {
     "name": "stderr",
     "output_type": "stream",
     "text": [
      "/usr/local/lib/python3.8/dist-packages/numpy/core/fromnumeric.py:3440: RuntimeWarning: Mean of empty slice.\n",
      "  return _methods._mean(a, axis=axis, dtype=dtype,\n",
      "/usr/local/lib/python3.8/dist-packages/numpy/core/_methods.py:189: RuntimeWarning: invalid value encountered in double_scalars\n",
      "  ret = ret.dtype.type(ret / rcount)\n"
     ]
    }
   ],
   "source": [
    "import radio_beam\n",
    "from spectral_cube import SpectralCube\n",
    "from astropy import units as u\n",
    "from astropy.convolution import Gaussian1DKernel\n",
    "\n",
    "cube = SpectralCube.read('/home/lxwang/data/'+'VGPS_cont_MOS033.fits')\n",
    "kernel = Gaussian1DKernel(2.5)\n",
    "new_cube = cube.spectral_smooth(kernel)\n",
    "new_axis = np.arange(0,10,2)*u.km/u.s\n",
    "fwhm_factor = np.sqrt(8*np.log(2))\n",
    "\n",
    "smcube = cube.spectral_smooth(Gaussian1DKernel(4/fwhm_factor))\n",
    "interp_Cube = smcube.spectral_interpolate(new_axis,\n",
    "                                          suppress_smooth_warning=True)"
   ]
  }
 ],
 "metadata": {
  "interpreter": {
   "hash": "e7370f93d1d0cde622a1f8e1c04877d8463912d04d973331ad4851f04de6915a"
  },
  "kernelspec": {
   "display_name": "Python 3.10.4 64-bit",
   "language": "python",
   "name": "python3"
  },
  "language_info": {
   "codemirror_mode": {
    "name": "ipython",
    "version": 3
   },
   "file_extension": ".py",
   "mimetype": "text/x-python",
   "name": "python",
   "nbconvert_exporter": "python",
   "pygments_lexer": "ipython3",
   "version": "3.10.4"
  }
 },
 "nbformat": 4,
 "nbformat_minor": 5
}
